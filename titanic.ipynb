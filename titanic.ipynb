{
 "cells": [
  {
   "cell_type": "code",
   "execution_count": 1,
   "metadata": {},
   "outputs": [],
   "source": [
    "%matplotlib inline\n",
    "import numpy as np\n",
    "import pandas as pd\n",
    "import seaborn as sns\n",
    "import matplotlib.pyplot as plt\n",
    "\n",
    "from sklearn.preprocessing import OneHotEncoder\n",
    "from sklearn.model_selection import train_test_split\n",
    "\n",
    "train_data_path = 'data/train.csv'\n",
    "test_data_path = 'data/test.csv'\n",
    "\n",
    "titanic_temp_data = pd.read_csv(train_data_path)\n",
    "titanic_test_data = pd.read_csv(test_data_path)\n",
    "\n",
    "titanic_train_data, titanic_val_data = train_test_split(\n",
    "                                            titanic_temp_data, test_size = .2)\n",
    "\n"
   ]
  },
  {
   "cell_type": "code",
   "execution_count": 2,
   "metadata": {},
   "outputs": [
    {
     "data": {
      "text/html": [
       "<div>\n",
       "<table border=\"1\" class=\"dataframe\">\n",
       "  <thead>\n",
       "    <tr style=\"text-align: right;\">\n",
       "      <th></th>\n",
       "      <th>PassengerId</th>\n",
       "      <th>Survived</th>\n",
       "      <th>Pclass</th>\n",
       "      <th>Name</th>\n",
       "      <th>Sex</th>\n",
       "      <th>Age</th>\n",
       "      <th>SibSp</th>\n",
       "      <th>Parch</th>\n",
       "      <th>Ticket</th>\n",
       "      <th>Fare</th>\n",
       "      <th>Cabin</th>\n",
       "      <th>Embarked</th>\n",
       "    </tr>\n",
       "  </thead>\n",
       "  <tbody>\n",
       "    <tr>\n",
       "      <th>635</th>\n",
       "      <td>636</td>\n",
       "      <td>1</td>\n",
       "      <td>2</td>\n",
       "      <td>Davis, Miss. Mary</td>\n",
       "      <td>female</td>\n",
       "      <td>28.0</td>\n",
       "      <td>0</td>\n",
       "      <td>0</td>\n",
       "      <td>237668</td>\n",
       "      <td>13.0000</td>\n",
       "      <td>NaN</td>\n",
       "      <td>S</td>\n",
       "    </tr>\n",
       "    <tr>\n",
       "      <th>844</th>\n",
       "      <td>845</td>\n",
       "      <td>0</td>\n",
       "      <td>3</td>\n",
       "      <td>Culumovic, Mr. Jeso</td>\n",
       "      <td>male</td>\n",
       "      <td>17.0</td>\n",
       "      <td>0</td>\n",
       "      <td>0</td>\n",
       "      <td>315090</td>\n",
       "      <td>8.6625</td>\n",
       "      <td>NaN</td>\n",
       "      <td>S</td>\n",
       "    </tr>\n",
       "    <tr>\n",
       "      <th>778</th>\n",
       "      <td>779</td>\n",
       "      <td>0</td>\n",
       "      <td>3</td>\n",
       "      <td>Kilgannon, Mr. Thomas J</td>\n",
       "      <td>male</td>\n",
       "      <td>NaN</td>\n",
       "      <td>0</td>\n",
       "      <td>0</td>\n",
       "      <td>36865</td>\n",
       "      <td>7.7375</td>\n",
       "      <td>NaN</td>\n",
       "      <td>Q</td>\n",
       "    </tr>\n",
       "    <tr>\n",
       "      <th>849</th>\n",
       "      <td>850</td>\n",
       "      <td>1</td>\n",
       "      <td>1</td>\n",
       "      <td>Goldenberg, Mrs. Samuel L (Edwiga Grabowska)</td>\n",
       "      <td>female</td>\n",
       "      <td>NaN</td>\n",
       "      <td>1</td>\n",
       "      <td>0</td>\n",
       "      <td>17453</td>\n",
       "      <td>89.1042</td>\n",
       "      <td>C92</td>\n",
       "      <td>C</td>\n",
       "    </tr>\n",
       "    <tr>\n",
       "      <th>490</th>\n",
       "      <td>491</td>\n",
       "      <td>0</td>\n",
       "      <td>3</td>\n",
       "      <td>Hagland, Mr. Konrad Mathias Reiersen</td>\n",
       "      <td>male</td>\n",
       "      <td>NaN</td>\n",
       "      <td>1</td>\n",
       "      <td>0</td>\n",
       "      <td>65304</td>\n",
       "      <td>19.9667</td>\n",
       "      <td>NaN</td>\n",
       "      <td>S</td>\n",
       "    </tr>\n",
       "  </tbody>\n",
       "</table>\n",
       "</div>"
      ],
      "text/plain": [
       "     PassengerId  Survived  Pclass  \\\n",
       "635          636         1       2   \n",
       "844          845         0       3   \n",
       "778          779         0       3   \n",
       "849          850         1       1   \n",
       "490          491         0       3   \n",
       "\n",
       "                                             Name     Sex   Age  SibSp  Parch  \\\n",
       "635                             Davis, Miss. Mary  female  28.0      0      0   \n",
       "844                           Culumovic, Mr. Jeso    male  17.0      0      0   \n",
       "778                       Kilgannon, Mr. Thomas J    male   NaN      0      0   \n",
       "849  Goldenberg, Mrs. Samuel L (Edwiga Grabowska)  female   NaN      1      0   \n",
       "490          Hagland, Mr. Konrad Mathias Reiersen    male   NaN      1      0   \n",
       "\n",
       "     Ticket     Fare Cabin Embarked  \n",
       "635  237668  13.0000   NaN        S  \n",
       "844  315090   8.6625   NaN        S  \n",
       "778   36865   7.7375   NaN        Q  \n",
       "849   17453  89.1042   C92        C  \n",
       "490   65304  19.9667   NaN        S  "
      ]
     },
     "execution_count": 2,
     "metadata": {},
     "output_type": "execute_result"
    }
   ],
   "source": [
    "titanic_train_data.head()"
   ]
  },
  {
   "cell_type": "markdown",
   "metadata": {},
   "source": []
  },
  {
   "cell_type": "code",
   "execution_count": 157,
   "metadata": {},
   "outputs": [],
   "source": [
    "# keep only the necessary column values\n",
    "features = ['Pclass','Sex','Age','SibSp','Parch','Fare']\n",
    "labels = ['Survived']\n",
    "\n",
    "train_set = titanic_train_data[features].reset_index(drop=True)\n",
    "val_set = titanic_val_data[features].reset_index(drop=True)\n",
    "test_set = titanic_test_data[features].reset_index(drop=True)\n",
    "\n",
    "train_labels = titanic_train_data[labels].reset_index(drop=True)\n",
    "val_labels = titanic_val_data[labels].reset_index(drop=True)"
   ]
  },
  {
   "cell_type": "code",
   "execution_count": 158,
   "metadata": {},
   "outputs": [],
   "source": [
    "from sklearn.preprocessing import LabelEncoder, LabelBinarizer, StandardScaler\n",
    "\n",
    "## set(train_set['Sex)) = {male,female} need to conver to binary\n",
    "lb_make = LabelEncoder()\n",
    "train_set.loc[:,'Sex_bin'] = lb_make.fit_transform(train_set['Sex'])\n",
    "val_set.loc[:,'Sex_bin'] = lb_make.fit_transform(val_set['Sex'])\n",
    "test_set.loc[:,'Sex_bin'] = lb_make.fit_transform(test_set['Sex'])\n",
    "\n",
    "## alternative approach using built in pandas functionality\n",
    "# train_set['Sex_bin'] = train_set['Sex'].astype('category').cat.codes\n",
    "# test_set['Sex_bin] = test_set['Sex].astype('category').cat.codes"
   ]
  },
  {
   "cell_type": "code",
   "execution_count": 159,
   "metadata": {},
   "outputs": [],
   "source": [
    "## convert Pclass to be one-hot-encoded. \n",
    "lb_binarizer = LabelBinarizer()\n",
    "Pclass_binarize_results_train = lb_binarizer.fit_transform(train_set['Pclass'])\n",
    "Pclass_binarize_results_val = lb_binarizer.fit_transform(val_set['Pclass'])\n",
    "Pclass_binarize_results_test = lb_binarizer.fit_transform(test_set['Pclass'])\n",
    "Pclass_labels = ['class_{}'.format(c) for c in lb_binarizer.classes_]\n",
    "\n",
    "Pclass_df_train = pd.DataFrame(Pclass_binarize_results_train, columns=Pclass_labels)\n",
    "Pclass_df_val = pd.DataFrame(Pclass_binarize_results_val, columns=Pclass_labels)\n",
    "Pclass_df_test = pd.DataFrame(Pclass_binarize_results_test, columns=Pclass_labels)\n",
    "\n",
    "\n",
    "training_data = pd.concat([train_set,Pclass_df_train], axis=1)\n",
    "val_data = pd.concat([val_set,Pclass_df_val], axis=1)\n",
    "testing_data = pd.concat([test_set, Pclass_df_test], axis=1)"
   ]
  },
  {
   "cell_type": "code",
   "execution_count": 160,
   "metadata": {},
   "outputs": [],
   "source": [
    "## fill in missing age data\n",
    "def nan_conversion(df,column):\n",
    "    mean_age = df[column].mean()\n",
    "    median_age = df[column].median()\n",
    "    std_age = df[column].std()\n",
    "    num_miss = df[column].isnull().sum()\n",
    "    \n",
    "    # fill age by draws from a normal distribution defined by mean and std\n",
    "    age_fill = np.random.normal(mean_age, std_age, num_miss)\n",
    "    \n",
    "    if np.isnan(df[column]).sum(axis= 0) > 0:\n",
    "        df.loc[np.isnan(df[column]),column] = np.abs(age_fill)\n",
    "        \n",
    "    ## another option is to just fillna with median or mean values\n",
    "#     df['Age'].fillna(median_age, inplace=True)\n",
    "#     df['Age'].fillna(mean_age, inplace=True) \n",
    "\n",
    "    # there are other options such as drawing from uniform dist bounded by mean-std, mean+std\n",
    "    return df\n",
    "\n",
    "training_data = nan_conversion(training_data, 'Age')\n",
    "val_data = nan_conversion(val_data, 'Age')\n",
    "testing_data = nan_conversion(testing_data, 'Age')\n",
    "testing_data = nan_conversion(testing_data, 'Fare')"
   ]
  },
  {
   "cell_type": "code",
   "execution_count": 161,
   "metadata": {},
   "outputs": [],
   "source": [
    "# remove not need columns\n",
    "columns_to_drop = set(['Pclass','Sex'])\n",
    "if bool(columns_to_drop.intersection(set(training_data.columns))):\n",
    "    training_data.drop(columns_to_drop, axis=1, inplace=True)\n",
    "if bool(columns_to_drop.intersection(set(val_data.columns))):\n",
    "    val_data.drop(columns_to_drop, axis=1, inplace=True)\n",
    "if bool(columns_to_drop.intersection(set(testing_data.columns))):\n",
    "    testing_data.drop(columns_to_drop, axis=1, inplace=True)"
   ]
  },
  {
   "cell_type": "code",
   "execution_count": 162,
   "metadata": {},
   "outputs": [],
   "source": [
    "x_train = training_data.values\n",
    "x_val = val_data.values\n",
    "x_test = testing_data.values\n",
    "\n",
    "y_train = train_labels.values\n",
    "y_val = val_labels.values"
   ]
  },
  {
   "cell_type": "code",
   "execution_count": 163,
   "metadata": {},
   "outputs": [],
   "source": [
    "## Through testing learned that testing has a missing value for fare. \n",
    "scaler = StandardScaler()\n",
    "scaled_x_trian = scaler.fit_transform(x_train)\n",
    "scaled_x_val = scaler.fit_transform(x_val)\n",
    "scaled_x_test = scaler.fit_transform(x_test)"
   ]
  },
  {
   "cell_type": "code",
   "execution_count": 177,
   "metadata": {
    "collapsed": true
   },
   "outputs": [],
   "source": [
    "from sklearn.ensemble import RandomForestClassifier\n",
    "from sklearn.model_selection import cross_val_predict\n",
    "from sklearn.metrics import accuracy_score\n"
   ]
  },
  {
   "cell_type": "code",
   "execution_count": 180,
   "metadata": {},
   "outputs": [],
   "source": [
    "y_pred = cross_val_predict(RandomForestClassifier(), x_train, y_train.reshape(712,), cv=3)"
   ]
  },
  {
   "cell_type": "code",
   "execution_count": 181,
   "metadata": {},
   "outputs": [
    {
     "data": {
      "text/plain": [
       "0.8160112359550562"
      ]
     },
     "execution_count": 181,
     "metadata": {},
     "output_type": "execute_result"
    }
   ],
   "source": [
    "accuracy_score(y_train,y_pred)"
   ]
  },
  {
   "cell_type": "code",
   "execution_count": null,
   "metadata": {
    "collapsed": true
   },
   "outputs": [],
   "source": []
  }
 ],
 "metadata": {
  "kernelspec": {
   "display_name": "Python 3",
   "language": "python",
   "name": "python3"
  },
  "language_info": {
   "codemirror_mode": {
    "name": "ipython",
    "version": 3
   },
   "file_extension": ".py",
   "mimetype": "text/x-python",
   "name": "python",
   "nbconvert_exporter": "python",
   "pygments_lexer": "ipython3",
   "version": "3.6.0"
  }
 },
 "nbformat": 4,
 "nbformat_minor": 2
}
